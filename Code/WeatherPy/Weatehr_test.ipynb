{
 "metadata": {
  "language_info": {
   "codemirror_mode": {
    "name": "ipython",
    "version": 3
   },
   "file_extension": ".py",
   "mimetype": "text/x-python",
   "name": "python",
   "nbconvert_exporter": "python",
   "pygments_lexer": "ipython3",
   "version": "3.8.5-final"
  },
  "orig_nbformat": 2,
  "kernelspec": {
   "name": "Python 3.8.5 32-bit ('PythonData': conda)",
   "display_name": "Python 3.8.5 32-bit ('PythonData': conda)",
   "metadata": {
    "interpreter": {
     "hash": "8a311df698f06a2cef55d0510db956ee9a65d564cad357cc4e621b7df85da77c"
    }
   }
  }
 },
 "nbformat": 4,
 "nbformat_minor": 2,
 "cells": [
  {
   "cell_type": "code",
   "execution_count": 1,
   "metadata": {},
   "outputs": [],
   "source": [
    "import requests\n",
    "import json\n",
    "from citipy import citipy\n",
    "import random\n",
    "import pandas as pd \n",
    "import matplotlib.pyplot as plt\n",
    "from api_keys import weather_api_key"
   ]
  },
  {
   "cell_type": "code",
   "execution_count": 2,
   "metadata": {},
   "outputs": [],
   "source": [
    "url = \"http://api.openweathermap.org/data/2.5/weather?\""
   ]
  },
  {
   "cell_type": "code",
   "execution_count": 3,
   "metadata": {},
   "outputs": [
    {
     "output_type": "stream",
     "name": "stdout",
     "text": [
      "68970bdad69e00449a9f178cc072f6f2\n"
     ]
    }
   ],
   "source": [
    "print(weather_api_key)"
   ]
  },
  {
   "source": [
    "#List Generation\n",
    "cities = []\n",
    "state_list = []\n",
    "lat_list = []\n",
    "lon_list = []\n",
    "temp_list = []\n",
    "humid_list = []\n",
    "cloud_list = []\n",
    "wind_list = []"
   ],
   "cell_type": "code",
   "metadata": {},
   "execution_count": 4,
   "outputs": []
  },
  {
   "cell_type": "code",
   "execution_count": 5,
   "metadata": {},
   "outputs": [],
   "source": [
    "#data_dict = {\n",
    "    #\"City\": cities,\n",
    "    #\"Country Code\": state_list,\n",
    "    #\"Latitude (N+/S-)\": lat_list,\n",
    "    #\"Longitude (E+/W-)\": lon_list,\n",
    "    #\"Temperature (F)\": temp_list,\n",
    "    #\"Humidity (%)\": humid_list,\n",
    "    #\"Cloudiness (%)\": cloud_list,\n",
    "    #\"Wind Speed (mph)\": wind_list\n",
    "#}"
   ]
  },
  {
   "cell_type": "code",
   "execution_count": 6,
   "metadata": {},
   "outputs": [],
   "source": [
    "def getcities():\n",
    "    while len(cities) < 20:\n",
    "        restart=True\n",
    "        while restart:\n",
    "            restart=False\n",
    "            lat = random.uniform(-90, 90)\n",
    "            lon = random.uniform(-180, 180)\n",
    "            cityget = citipy.nearest_city(lat, lon)\n",
    "            city = str(cityget.city_name)\n",
    "            state = str(cityget.country_code)\n",
    "            if city in cities:\n",
    "                print(\"Duplicate City Found\")\n",
    "                restart=True\n",
    "            else:\n",
    "                cities.append(city)\n",
    "                state_list.append(state)\n",
    "                city_length = len(cities)\n",
    "                print(f\"Processing weather data for {city}, {state} | City number {city_length}\")"
   ]
  },
  {
   "cell_type": "code",
   "execution_count": 7,
   "metadata": {},
   "outputs": [],
   "source": [
    "def getweather():\n",
    "    for city in cities:\n",
    "        try:\n",
    "            call_url = url + \"q=\" + city + \"&units=imperial&appid=\" + \"68970bdad69e00449a9f178cc072f6f2\"\n",
    "            city_data = requests.get(call_url).json()\n",
    "            lat_list.append(city_data['coord']['lat'])\n",
    "            lon_list.append(city_data['coord']['lon'])\n",
    "            temp_list.append(city_data['main']['temp'])\n",
    "            humid_list.append(city_data['main']['humidity'])\n",
    "            cloud_list.append(city_data['clouds']['all'])\n",
    "            wind_list.append(city_data['wind']['speed'])\n",
    "            print(f\"Sucessfully Processed weather data for {city}\")\n",
    "        except KeyError:\n",
    "            print(f\"Failed to collect data for {city}\")\n",
    "            pass"
   ]
  },
  {
   "cell_type": "code",
   "execution_count": 8,
   "metadata": {},
   "outputs": [],
   "source": [
    "def MegaFunction(pull_number):\n",
    "    print(\"Begining Data Collection\")\n",
    "    print(\"-----------------------------------------\")\n",
    "    # First Break Condition, limits list size to intended 500 cities\n",
    "    while len(cities) < pull_number:\n",
    "        # Restart loop condition to pull new city without appending the duplicate\n",
    "        restart=True\n",
    "        while restart:\n",
    "            restart=False\n",
    "            #Lat/Long and city name pull\n",
    "            lat = random.uniform(-90, 90)\n",
    "            lon = random.uniform(-180, 180)\n",
    "            cityget = citipy.nearest_city(lat, lon)\n",
    "            city = str(cityget.city_name)\n",
    "            state = str(cityget.country_code)\n",
    "            if city in cities:\n",
    "                #Duplicate check, if already found, will loop back to top and pull new city without adding to lists\n",
    "                print(\"Duplicate City Found\")\n",
    "                restart=True\n",
    "            else:\n",
    "                #URL for call\n",
    "                call_url = url + \"q=\" + city + \",\" + state + \"&units=imperial&appid=\" + weather_api_key\n",
    "                try:\n",
    "                    #Attempts the API Pull, if KeyError at the first list append due to bad city, will not append to lists and will skip                           with error message that the city failed to register a data pull\n",
    "                    city_data = requests.get(call_url).json()\n",
    "                    lat_list.append(city_data['coord']['lat'])\n",
    "                    lon_list.append(city_data['coord']['lon'])\n",
    "                    temp_list.append(city_data['main']['temp'])\n",
    "                    humid_list.append(city_data['main']['humidity'])\n",
    "                    cloud_list.append(city_data['clouds']['all'])\n",
    "                    wind_list.append(city_data['wind']['speed'])\n",
    "                    cities.append(city)\n",
    "                    state_list.append(state)\n",
    "                    city_length = len(cities)\n",
    "                    print(f\"Processing weather data for {city}, {state} | City number {city_length}\")\n",
    "                except KeyError:\n",
    "                    #Key Error will catch and loop here before appending to any lists\n",
    "                    print(f\"Failed to collect data for {city}, {state}\")\n",
    "                    restart=True\n",
    "                if len(cities) == pull_number:\n",
    "                    #Second break conditon to hit limit\n",
    "                    print(\"-----------------------------------------\")\n",
    "                    print(f\"Weather Data collection complete with {(len(cities))} cities collected\")\n",
    "                    break"
   ]
  },
  {
   "cell_type": "code",
   "execution_count": 9,
   "metadata": {},
   "outputs": [
    {
     "output_type": "stream",
     "name": "stdout",
     "text": [
      "Begining Data Collection\n",
      "-----------------------------------------\n",
      "Processing weather data for nizhniy kuranakh, ru | City number 1\n",
      "Processing weather data for bredasdorp, za | City number 2\n",
      "Processing weather data for kapaa, us | City number 3\n",
      "Processing weather data for tiznit, ma | City number 4\n",
      "Processing weather data for murwara, in | City number 5\n",
      "Duplicate City Found\n",
      "Processing weather data for georgetown, sh | City number 6\n",
      "Processing weather data for kailua, us | City number 7\n",
      "Processing weather data for new norfolk, au | City number 8\n",
      "Failed to collect data for gonyu, hu\n",
      "Processing weather data for nikolskoye, ru | City number 9\n",
      "Processing weather data for busselton, au | City number 10\n",
      "-----------------------------------------\n",
      "Weather Data collection complete with 10 cities collected\n"
     ]
    }
   ],
   "source": [
    "pull_number = int(input(\"How many cities would you like to pull data for?: \"))\n",
    "MegaFunction(pull_number)"
   ]
  },
  {
   "cell_type": "code",
   "execution_count": 10,
   "metadata": {},
   "outputs": [],
   "source": [
    "#getcities()"
   ]
  },
  {
   "cell_type": "code",
   "execution_count": 11,
   "metadata": {},
   "outputs": [],
   "source": [
    "#getweather()"
   ]
  },
  {
   "cell_type": "code",
   "execution_count": 10,
   "metadata": {},
   "outputs": [
    {
     "output_type": "stream",
     "name": "stdout",
     "text": [
      "['nizhniy kuranakh', 'bredasdorp', 'kapaa', 'tiznit', 'murwara', 'georgetown', 'kailua', 'new norfolk', 'nikolskoye', 'busselton']\n[58.84, -34.53, 22.08, 29.58, 23.85, -7.93, 21.4, -42.78, 59.7, -33.65]\n[125.49, 20.04, -159.32, -9.5, 80.4, -14.42, -157.74, 147.06, 30.79, 115.33]\n"
     ]
    }
   ],
   "source": [
    "print(cities)\n",
    "print(lat_list)\n",
    "print(lon_list)"
   ]
  },
  {
   "cell_type": "code",
   "execution_count": 11,
   "metadata": {},
   "outputs": [],
   "source": [
    "data_dict = {\n",
    "    \"City\": cities,\n",
    "    \"Country Code\": state_list,\n",
    "    \"Latitude (N+/S-)\": lat_list,\n",
    "    \"Longitude (E+/W-)\": lon_list,\n",
    "    \"Temperature (F)\": temp_list,\n",
    "    \"Humidity (%)\": humid_list,\n",
    "    \"Cloudiness (%)\": cloud_list,\n",
    "    \"Wind Speed (mph)\": wind_list\n",
    "}"
   ]
  },
  {
   "cell_type": "code",
   "execution_count": 12,
   "metadata": {},
   "outputs": [],
   "source": [
    "weather_data = pd.DataFrame(data_dict)"
   ]
  },
  {
   "cell_type": "code",
   "execution_count": 13,
   "metadata": {},
   "outputs": [
    {
     "output_type": "execute_result",
     "data": {
      "text/plain": [
       "               City Country Code  Latitude (N+/S-)  Longitude (E+/W-)  \\\n",
       "0  nizhniy kuranakh           ru             58.84             125.49   \n",
       "1        bredasdorp           za            -34.53              20.04   \n",
       "2             kapaa           us             22.08            -159.32   \n",
       "3            tiznit           ma             29.58              -9.50   \n",
       "4           murwara           in             23.85              80.40   \n",
       "5        georgetown           sh             -7.93             -14.42   \n",
       "6            kailua           us             21.40            -157.74   \n",
       "7       new norfolk           au            -42.78             147.06   \n",
       "8        nikolskoye           ru             59.70              30.79   \n",
       "9         busselton           au            -33.65             115.33   \n",
       "\n",
       "   Temperature (F)  Humidity (%)  Cloudiness (%)  Wind Speed (mph)  \n",
       "0             6.22            92             100              2.64  \n",
       "1            59.00            47              98             18.34  \n",
       "2            64.40            93               1              5.82  \n",
       "3            79.70            19              55             11.56  \n",
       "4            68.16            40               0              3.44  \n",
       "5            74.34            79              39             19.71  \n",
       "6            71.49           100              90              2.08  \n",
       "7            53.60            81              90              2.06  \n",
       "8            49.66            93              90              2.24  \n",
       "9            58.98            39               0             13.09  "
      ],
      "text/html": "<div>\n<style scoped>\n    .dataframe tbody tr th:only-of-type {\n        vertical-align: middle;\n    }\n\n    .dataframe tbody tr th {\n        vertical-align: top;\n    }\n\n    .dataframe thead th {\n        text-align: right;\n    }\n</style>\n<table border=\"1\" class=\"dataframe\">\n  <thead>\n    <tr style=\"text-align: right;\">\n      <th></th>\n      <th>City</th>\n      <th>Country Code</th>\n      <th>Latitude (N+/S-)</th>\n      <th>Longitude (E+/W-)</th>\n      <th>Temperature (F)</th>\n      <th>Humidity (%)</th>\n      <th>Cloudiness (%)</th>\n      <th>Wind Speed (mph)</th>\n    </tr>\n  </thead>\n  <tbody>\n    <tr>\n      <th>0</th>\n      <td>nizhniy kuranakh</td>\n      <td>ru</td>\n      <td>58.84</td>\n      <td>125.49</td>\n      <td>6.22</td>\n      <td>92</td>\n      <td>100</td>\n      <td>2.64</td>\n    </tr>\n    <tr>\n      <th>1</th>\n      <td>bredasdorp</td>\n      <td>za</td>\n      <td>-34.53</td>\n      <td>20.04</td>\n      <td>59.00</td>\n      <td>47</td>\n      <td>98</td>\n      <td>18.34</td>\n    </tr>\n    <tr>\n      <th>2</th>\n      <td>kapaa</td>\n      <td>us</td>\n      <td>22.08</td>\n      <td>-159.32</td>\n      <td>64.40</td>\n      <td>93</td>\n      <td>1</td>\n      <td>5.82</td>\n    </tr>\n    <tr>\n      <th>3</th>\n      <td>tiznit</td>\n      <td>ma</td>\n      <td>29.58</td>\n      <td>-9.50</td>\n      <td>79.70</td>\n      <td>19</td>\n      <td>55</td>\n      <td>11.56</td>\n    </tr>\n    <tr>\n      <th>4</th>\n      <td>murwara</td>\n      <td>in</td>\n      <td>23.85</td>\n      <td>80.40</td>\n      <td>68.16</td>\n      <td>40</td>\n      <td>0</td>\n      <td>3.44</td>\n    </tr>\n    <tr>\n      <th>5</th>\n      <td>georgetown</td>\n      <td>sh</td>\n      <td>-7.93</td>\n      <td>-14.42</td>\n      <td>74.34</td>\n      <td>79</td>\n      <td>39</td>\n      <td>19.71</td>\n    </tr>\n    <tr>\n      <th>6</th>\n      <td>kailua</td>\n      <td>us</td>\n      <td>21.40</td>\n      <td>-157.74</td>\n      <td>71.49</td>\n      <td>100</td>\n      <td>90</td>\n      <td>2.08</td>\n    </tr>\n    <tr>\n      <th>7</th>\n      <td>new norfolk</td>\n      <td>au</td>\n      <td>-42.78</td>\n      <td>147.06</td>\n      <td>53.60</td>\n      <td>81</td>\n      <td>90</td>\n      <td>2.06</td>\n    </tr>\n    <tr>\n      <th>8</th>\n      <td>nikolskoye</td>\n      <td>ru</td>\n      <td>59.70</td>\n      <td>30.79</td>\n      <td>49.66</td>\n      <td>93</td>\n      <td>90</td>\n      <td>2.24</td>\n    </tr>\n    <tr>\n      <th>9</th>\n      <td>busselton</td>\n      <td>au</td>\n      <td>-33.65</td>\n      <td>115.33</td>\n      <td>58.98</td>\n      <td>39</td>\n      <td>0</td>\n      <td>13.09</td>\n    </tr>\n  </tbody>\n</table>\n</div>"
     },
     "metadata": {},
     "execution_count": 13
    }
   ],
   "source": [
    "weather_data"
   ]
  },
  {
   "cell_type": "code",
   "execution_count": 14,
   "metadata": {},
   "outputs": [],
   "source": [
    "weather_data.to_csv(\"weather_data_test.csv\", encoding=\"utf-8\", index=True, header=True)"
   ]
  },
  {
   "cell_type": "code",
   "execution_count": 15,
   "metadata": {},
   "outputs": [
    {
     "output_type": "execute_result",
     "data": {
      "text/plain": [
       "<function matplotlib.pyplot.show(close=None, block=None)>"
      ]
     },
     "metadata": {},
     "execution_count": 15
    },
    {
     "output_type": "display_data",
     "data": {
      "text/plain": "<Figure size 432x288 with 1 Axes>",
      "image/svg+xml": "<?xml version=\"1.0\" encoding=\"utf-8\" standalone=\"no\"?>\r\n<!DOCTYPE svg PUBLIC \"-//W3C//DTD SVG 1.1//EN\"\r\n  \"http://www.w3.org/Graphics/SVG/1.1/DTD/svg11.dtd\">\r\n<!-- Created with matplotlib (https://matplotlib.org/) -->\r\n<svg height=\"248.518125pt\" version=\"1.1\" viewBox=\"0 0 383.667187 248.518125\" width=\"383.667187pt\" xmlns=\"http://www.w3.org/2000/svg\" xmlns:xlink=\"http://www.w3.org/1999/xlink\">\r\n <metadata>\r\n  <rdf:RDF xmlns:cc=\"http://creativecommons.org/ns#\" xmlns:dc=\"http://purl.org/dc/elements/1.1/\" xmlns:rdf=\"http://www.w3.org/1999/02/22-rdf-syntax-ns#\">\r\n   <cc:Work>\r\n    <dc:type rdf:resource=\"http://purl.org/dc/dcmitype/StillImage\"/>\r\n    <dc:date>2020-10-29T13:37:38.094517</dc:date>\r\n    <dc:format>image/svg+xml</dc:format>\r\n    <dc:creator>\r\n     <cc:Agent>\r\n      <dc:title>Matplotlib v3.3.1, https://matplotlib.org/</dc:title>\r\n     </cc:Agent>\r\n    </dc:creator>\r\n   </cc:Work>\r\n  </rdf:RDF>\r\n </metadata>\r\n <defs>\r\n  <style type=\"text/css\">*{stroke-linecap:butt;stroke-linejoin:round;}</style>\r\n </defs>\r\n <g id=\"figure_1\">\r\n  <g id=\"patch_1\">\r\n   <path d=\"M 0 248.518125 \r\nL 383.667187 248.518125 \r\nL 383.667187 0 \r\nL 0 0 \r\nz\r\n\" style=\"fill:none;\"/>\r\n  </g>\r\n  <g id=\"axes_1\">\r\n   <g id=\"patch_2\">\r\n    <path d=\"M 41.667188 224.64 \r\nL 376.467188 224.64 \r\nL 376.467188 7.2 \r\nL 41.667188 7.2 \r\nz\r\n\" style=\"fill:#ffffff;\"/>\r\n   </g>\r\n   <g id=\"PathCollection_1\">\r\n    <defs>\r\n     <path d=\"M 0 3 \r\nC 0.795609 3 1.55874 2.683901 2.12132 2.12132 \r\nC 2.683901 1.55874 3 0.795609 3 0 \r\nC 3 -0.795609 2.683901 -1.55874 2.12132 -2.12132 \r\nC 1.55874 -2.683901 0.795609 -3 0 -3 \r\nC -0.795609 -3 -1.55874 -2.683901 -2.12132 -2.12132 \r\nC -2.683901 -1.55874 -3 -0.795609 -3 0 \r\nC -3 0.795609 -2.683901 1.55874 -2.12132 2.12132 \r\nC -1.55874 2.683901 -0.795609 3 0 3 \r\nz\r\n\" id=\"m8b5ff0db48\" style=\"stroke:#1f77b4;\"/>\r\n    </defs>\r\n    <g clip-path=\"url(#pe25c3dfe9d)\">\r\n     <use style=\"fill:#1f77b4;stroke:#1f77b4;\" x=\"318.509588\" xlink:href=\"#m8b5ff0db48\" y=\"40.12404\"/>\r\n     <use style=\"fill:#1f77b4;stroke:#1f77b4;\" x=\"144.841387\" xlink:href=\"#m8b5ff0db48\" y=\"103.81584\"/>\r\n     <use style=\"fill:#1f77b4;stroke:#1f77b4;\" x=\"250.135987\" xlink:href=\"#m8b5ff0db48\" y=\"212.14928\"/>\r\n     <use style=\"fill:#1f77b4;stroke:#1f77b4;\" x=\"264.085987\" xlink:href=\"#m8b5ff0db48\" y=\"121.658\"/>\r\n     <use style=\"fill:#1f77b4;stroke:#1f77b4;\" x=\"253.428188\" xlink:href=\"#m8b5ff0db48\" y=\"67.3584\"/>\r\n     <use style=\"fill:#1f77b4;stroke:#1f77b4;\" x=\"194.317388\" xlink:href=\"#m8b5ff0db48\" y=\"124.62968\"/>\r\n     <use style=\"fill:#1f77b4;stroke:#1f77b4;\" x=\"248.871188\" xlink:href=\"#m8b5ff0db48\" y=\"211.19496\"/>\r\n     <use style=\"fill:#1f77b4;stroke:#1f77b4;\" x=\"129.496388\" xlink:href=\"#m8b5ff0db48\" y=\"27.09576\"/>\r\n     <use style=\"fill:#1f77b4;stroke:#1f77b4;\" x=\"320.109188\" xlink:href=\"#m8b5ff0db48\" y=\"97.32284\"/>\r\n     <use style=\"fill:#1f77b4;stroke:#1f77b4;\" x=\"146.478188\" xlink:href=\"#m8b5ff0db48\" y=\"46.26068\"/>\r\n    </g>\r\n   </g>\r\n   <g id=\"matplotlib.axis_1\">\r\n    <g id=\"xtick_1\">\r\n     <g id=\"line2d_1\">\r\n      <defs>\r\n       <path d=\"M 0 0 \r\nL 0 3.5 \r\n\" id=\"m9a7e77c178\" style=\"stroke:#000000;stroke-width:0.8;\"/>\r\n      </defs>\r\n      <g>\r\n       <use style=\"stroke:#000000;stroke-width:0.8;\" x=\"60.267188\" xlink:href=\"#m9a7e77c178\" y=\"224.64\"/>\r\n      </g>\r\n     </g>\r\n     <g id=\"text_1\">\r\n      <!-- −80 -->\r\n      <g transform=\"translate(49.714844 239.238437)scale(0.1 -0.1)\">\r\n       <defs>\r\n        <path d=\"M 10.59375 35.5 \r\nL 73.1875 35.5 \r\nL 73.1875 27.203125 \r\nL 10.59375 27.203125 \r\nz\r\n\" id=\"DejaVuSans-8722\"/>\r\n        <path d=\"M 31.78125 34.625 \r\nQ 24.75 34.625 20.71875 30.859375 \r\nQ 16.703125 27.09375 16.703125 20.515625 \r\nQ 16.703125 13.921875 20.71875 10.15625 \r\nQ 24.75 6.390625 31.78125 6.390625 \r\nQ 38.8125 6.390625 42.859375 10.171875 \r\nQ 46.921875 13.96875 46.921875 20.515625 \r\nQ 46.921875 27.09375 42.890625 30.859375 \r\nQ 38.875 34.625 31.78125 34.625 \r\nz\r\nM 21.921875 38.8125 \r\nQ 15.578125 40.375 12.03125 44.71875 \r\nQ 8.5 49.078125 8.5 55.328125 \r\nQ 8.5 64.0625 14.71875 69.140625 \r\nQ 20.953125 74.21875 31.78125 74.21875 \r\nQ 42.671875 74.21875 48.875 69.140625 \r\nQ 55.078125 64.0625 55.078125 55.328125 \r\nQ 55.078125 49.078125 51.53125 44.71875 \r\nQ 48 40.375 41.703125 38.8125 \r\nQ 48.828125 37.15625 52.796875 32.3125 \r\nQ 56.78125 27.484375 56.78125 20.515625 \r\nQ 56.78125 9.90625 50.3125 4.234375 \r\nQ 43.84375 -1.421875 31.78125 -1.421875 \r\nQ 19.734375 -1.421875 13.25 4.234375 \r\nQ 6.78125 9.90625 6.78125 20.515625 \r\nQ 6.78125 27.484375 10.78125 32.3125 \r\nQ 14.796875 37.15625 21.921875 38.8125 \r\nz\r\nM 18.3125 54.390625 \r\nQ 18.3125 48.734375 21.84375 45.5625 \r\nQ 25.390625 42.390625 31.78125 42.390625 \r\nQ 38.140625 42.390625 41.71875 45.5625 \r\nQ 45.3125 48.734375 45.3125 54.390625 \r\nQ 45.3125 60.0625 41.71875 63.234375 \r\nQ 38.140625 66.40625 31.78125 66.40625 \r\nQ 25.390625 66.40625 21.84375 63.234375 \r\nQ 18.3125 60.0625 18.3125 54.390625 \r\nz\r\n\" id=\"DejaVuSans-56\"/>\r\n        <path d=\"M 31.78125 66.40625 \r\nQ 24.171875 66.40625 20.328125 58.90625 \r\nQ 16.5 51.421875 16.5 36.375 \r\nQ 16.5 21.390625 20.328125 13.890625 \r\nQ 24.171875 6.390625 31.78125 6.390625 \r\nQ 39.453125 6.390625 43.28125 13.890625 \r\nQ 47.125 21.390625 47.125 36.375 \r\nQ 47.125 51.421875 43.28125 58.90625 \r\nQ 39.453125 66.40625 31.78125 66.40625 \r\nz\r\nM 31.78125 74.21875 \r\nQ 44.046875 74.21875 50.515625 64.515625 \r\nQ 56.984375 54.828125 56.984375 36.375 \r\nQ 56.984375 17.96875 50.515625 8.265625 \r\nQ 44.046875 -1.421875 31.78125 -1.421875 \r\nQ 19.53125 -1.421875 13.0625 8.265625 \r\nQ 6.59375 17.96875 6.59375 36.375 \r\nQ 6.59375 54.828125 13.0625 64.515625 \r\nQ 19.53125 74.21875 31.78125 74.21875 \r\nz\r\n\" id=\"DejaVuSans-48\"/>\r\n       </defs>\r\n       <use xlink:href=\"#DejaVuSans-8722\"/>\r\n       <use x=\"83.789062\" xlink:href=\"#DejaVuSans-56\"/>\r\n       <use x=\"147.412109\" xlink:href=\"#DejaVuSans-48\"/>\r\n      </g>\r\n     </g>\r\n    </g>\r\n    <g id=\"xtick_2\">\r\n     <g id=\"line2d_2\">\r\n      <g>\r\n       <use style=\"stroke:#000000;stroke-width:0.8;\" x=\"97.467188\" xlink:href=\"#m9a7e77c178\" y=\"224.64\"/>\r\n      </g>\r\n     </g>\r\n     <g id=\"text_2\">\r\n      <!-- −60 -->\r\n      <g transform=\"translate(86.914844 239.238437)scale(0.1 -0.1)\">\r\n       <defs>\r\n        <path d=\"M 33.015625 40.375 \r\nQ 26.375 40.375 22.484375 35.828125 \r\nQ 18.609375 31.296875 18.609375 23.390625 \r\nQ 18.609375 15.53125 22.484375 10.953125 \r\nQ 26.375 6.390625 33.015625 6.390625 \r\nQ 39.65625 6.390625 43.53125 10.953125 \r\nQ 47.40625 15.53125 47.40625 23.390625 \r\nQ 47.40625 31.296875 43.53125 35.828125 \r\nQ 39.65625 40.375 33.015625 40.375 \r\nz\r\nM 52.59375 71.296875 \r\nL 52.59375 62.3125 \r\nQ 48.875 64.0625 45.09375 64.984375 \r\nQ 41.3125 65.921875 37.59375 65.921875 \r\nQ 27.828125 65.921875 22.671875 59.328125 \r\nQ 17.53125 52.734375 16.796875 39.40625 \r\nQ 19.671875 43.65625 24.015625 45.921875 \r\nQ 28.375 48.1875 33.59375 48.1875 \r\nQ 44.578125 48.1875 50.953125 41.515625 \r\nQ 57.328125 34.859375 57.328125 23.390625 \r\nQ 57.328125 12.15625 50.6875 5.359375 \r\nQ 44.046875 -1.421875 33.015625 -1.421875 \r\nQ 20.359375 -1.421875 13.671875 8.265625 \r\nQ 6.984375 17.96875 6.984375 36.375 \r\nQ 6.984375 53.65625 15.1875 63.9375 \r\nQ 23.390625 74.21875 37.203125 74.21875 \r\nQ 40.921875 74.21875 44.703125 73.484375 \r\nQ 48.484375 72.75 52.59375 71.296875 \r\nz\r\n\" id=\"DejaVuSans-54\"/>\r\n       </defs>\r\n       <use xlink:href=\"#DejaVuSans-8722\"/>\r\n       <use x=\"83.789062\" xlink:href=\"#DejaVuSans-54\"/>\r\n       <use x=\"147.412109\" xlink:href=\"#DejaVuSans-48\"/>\r\n      </g>\r\n     </g>\r\n    </g>\r\n    <g id=\"xtick_3\">\r\n     <g id=\"line2d_3\">\r\n      <g>\r\n       <use style=\"stroke:#000000;stroke-width:0.8;\" x=\"134.667188\" xlink:href=\"#m9a7e77c178\" y=\"224.64\"/>\r\n      </g>\r\n     </g>\r\n     <g id=\"text_3\">\r\n      <!-- −40 -->\r\n      <g transform=\"translate(124.114844 239.238437)scale(0.1 -0.1)\">\r\n       <defs>\r\n        <path d=\"M 37.796875 64.3125 \r\nL 12.890625 25.390625 \r\nL 37.796875 25.390625 \r\nz\r\nM 35.203125 72.90625 \r\nL 47.609375 72.90625 \r\nL 47.609375 25.390625 \r\nL 58.015625 25.390625 \r\nL 58.015625 17.1875 \r\nL 47.609375 17.1875 \r\nL 47.609375 0 \r\nL 37.796875 0 \r\nL 37.796875 17.1875 \r\nL 4.890625 17.1875 \r\nL 4.890625 26.703125 \r\nz\r\n\" id=\"DejaVuSans-52\"/>\r\n       </defs>\r\n       <use xlink:href=\"#DejaVuSans-8722\"/>\r\n       <use x=\"83.789062\" xlink:href=\"#DejaVuSans-52\"/>\r\n       <use x=\"147.412109\" xlink:href=\"#DejaVuSans-48\"/>\r\n      </g>\r\n     </g>\r\n    </g>\r\n    <g id=\"xtick_4\">\r\n     <g id=\"line2d_4\">\r\n      <g>\r\n       <use style=\"stroke:#000000;stroke-width:0.8;\" x=\"171.867188\" xlink:href=\"#m9a7e77c178\" y=\"224.64\"/>\r\n      </g>\r\n     </g>\r\n     <g id=\"text_4\">\r\n      <!-- −20 -->\r\n      <g transform=\"translate(161.314844 239.238437)scale(0.1 -0.1)\">\r\n       <defs>\r\n        <path d=\"M 19.1875 8.296875 \r\nL 53.609375 8.296875 \r\nL 53.609375 0 \r\nL 7.328125 0 \r\nL 7.328125 8.296875 \r\nQ 12.9375 14.109375 22.625 23.890625 \r\nQ 32.328125 33.6875 34.8125 36.53125 \r\nQ 39.546875 41.84375 41.421875 45.53125 \r\nQ 43.3125 49.21875 43.3125 52.78125 \r\nQ 43.3125 58.59375 39.234375 62.25 \r\nQ 35.15625 65.921875 28.609375 65.921875 \r\nQ 23.96875 65.921875 18.8125 64.3125 \r\nQ 13.671875 62.703125 7.8125 59.421875 \r\nL 7.8125 69.390625 \r\nQ 13.765625 71.78125 18.9375 73 \r\nQ 24.125 74.21875 28.421875 74.21875 \r\nQ 39.75 74.21875 46.484375 68.546875 \r\nQ 53.21875 62.890625 53.21875 53.421875 \r\nQ 53.21875 48.921875 51.53125 44.890625 \r\nQ 49.859375 40.875 45.40625 35.40625 \r\nQ 44.1875 33.984375 37.640625 27.21875 \r\nQ 31.109375 20.453125 19.1875 8.296875 \r\nz\r\n\" id=\"DejaVuSans-50\"/>\r\n       </defs>\r\n       <use xlink:href=\"#DejaVuSans-8722\"/>\r\n       <use x=\"83.789062\" xlink:href=\"#DejaVuSans-50\"/>\r\n       <use x=\"147.412109\" xlink:href=\"#DejaVuSans-48\"/>\r\n      </g>\r\n     </g>\r\n    </g>\r\n    <g id=\"xtick_5\">\r\n     <g id=\"line2d_5\">\r\n      <g>\r\n       <use style=\"stroke:#000000;stroke-width:0.8;\" x=\"209.067188\" xlink:href=\"#m9a7e77c178\" y=\"224.64\"/>\r\n      </g>\r\n     </g>\r\n     <g id=\"text_5\">\r\n      <!-- 0 -->\r\n      <g transform=\"translate(205.885938 239.238437)scale(0.1 -0.1)\">\r\n       <use xlink:href=\"#DejaVuSans-48\"/>\r\n      </g>\r\n     </g>\r\n    </g>\r\n    <g id=\"xtick_6\">\r\n     <g id=\"line2d_6\">\r\n      <g>\r\n       <use style=\"stroke:#000000;stroke-width:0.8;\" x=\"246.267188\" xlink:href=\"#m9a7e77c178\" y=\"224.64\"/>\r\n      </g>\r\n     </g>\r\n     <g id=\"text_6\">\r\n      <!-- 20 -->\r\n      <g transform=\"translate(239.904688 239.238437)scale(0.1 -0.1)\">\r\n       <use xlink:href=\"#DejaVuSans-50\"/>\r\n       <use x=\"63.623047\" xlink:href=\"#DejaVuSans-48\"/>\r\n      </g>\r\n     </g>\r\n    </g>\r\n    <g id=\"xtick_7\">\r\n     <g id=\"line2d_7\">\r\n      <g>\r\n       <use style=\"stroke:#000000;stroke-width:0.8;\" x=\"283.467188\" xlink:href=\"#m9a7e77c178\" y=\"224.64\"/>\r\n      </g>\r\n     </g>\r\n     <g id=\"text_7\">\r\n      <!-- 40 -->\r\n      <g transform=\"translate(277.104688 239.238437)scale(0.1 -0.1)\">\r\n       <use xlink:href=\"#DejaVuSans-52\"/>\r\n       <use x=\"63.623047\" xlink:href=\"#DejaVuSans-48\"/>\r\n      </g>\r\n     </g>\r\n    </g>\r\n    <g id=\"xtick_8\">\r\n     <g id=\"line2d_8\">\r\n      <g>\r\n       <use style=\"stroke:#000000;stroke-width:0.8;\" x=\"320.667188\" xlink:href=\"#m9a7e77c178\" y=\"224.64\"/>\r\n      </g>\r\n     </g>\r\n     <g id=\"text_8\">\r\n      <!-- 60 -->\r\n      <g transform=\"translate(314.304688 239.238437)scale(0.1 -0.1)\">\r\n       <use xlink:href=\"#DejaVuSans-54\"/>\r\n       <use x=\"63.623047\" xlink:href=\"#DejaVuSans-48\"/>\r\n      </g>\r\n     </g>\r\n    </g>\r\n    <g id=\"xtick_9\">\r\n     <g id=\"line2d_9\">\r\n      <g>\r\n       <use style=\"stroke:#000000;stroke-width:0.8;\" x=\"357.867188\" xlink:href=\"#m9a7e77c178\" y=\"224.64\"/>\r\n      </g>\r\n     </g>\r\n     <g id=\"text_9\">\r\n      <!-- 80 -->\r\n      <g transform=\"translate(351.504687 239.238437)scale(0.1 -0.1)\">\r\n       <use xlink:href=\"#DejaVuSans-56\"/>\r\n       <use x=\"63.623047\" xlink:href=\"#DejaVuSans-48\"/>\r\n      </g>\r\n     </g>\r\n    </g>\r\n   </g>\r\n   <g id=\"matplotlib.axis_2\">\r\n    <g id=\"ytick_1\">\r\n     <g id=\"line2d_10\">\r\n      <defs>\r\n       <path d=\"M 0 0 \r\nL -3.5 0 \r\n\" id=\"mfa0e5213d5\" style=\"stroke:#000000;stroke-width:0.8;\"/>\r\n      </defs>\r\n      <g>\r\n       <use style=\"stroke:#000000;stroke-width:0.8;\" x=\"41.667188\" xlink:href=\"#mfa0e5213d5\" y=\"206.52\"/>\r\n      </g>\r\n     </g>\r\n     <g id=\"text_10\">\r\n      <!-- −150 -->\r\n      <g transform=\"translate(7.2 210.319219)scale(0.1 -0.1)\">\r\n       <defs>\r\n        <path d=\"M 12.40625 8.296875 \r\nL 28.515625 8.296875 \r\nL 28.515625 63.921875 \r\nL 10.984375 60.40625 \r\nL 10.984375 69.390625 \r\nL 28.421875 72.90625 \r\nL 38.28125 72.90625 \r\nL 38.28125 8.296875 \r\nL 54.390625 8.296875 \r\nL 54.390625 0 \r\nL 12.40625 0 \r\nz\r\n\" id=\"DejaVuSans-49\"/>\r\n        <path d=\"M 10.796875 72.90625 \r\nL 49.515625 72.90625 \r\nL 49.515625 64.59375 \r\nL 19.828125 64.59375 \r\nL 19.828125 46.734375 \r\nQ 21.96875 47.46875 24.109375 47.828125 \r\nQ 26.265625 48.1875 28.421875 48.1875 \r\nQ 40.625 48.1875 47.75 41.5 \r\nQ 54.890625 34.8125 54.890625 23.390625 \r\nQ 54.890625 11.625 47.5625 5.09375 \r\nQ 40.234375 -1.421875 26.90625 -1.421875 \r\nQ 22.3125 -1.421875 17.546875 -0.640625 \r\nQ 12.796875 0.140625 7.71875 1.703125 \r\nL 7.71875 11.625 \r\nQ 12.109375 9.234375 16.796875 8.0625 \r\nQ 21.484375 6.890625 26.703125 6.890625 \r\nQ 35.15625 6.890625 40.078125 11.328125 \r\nQ 45.015625 15.765625 45.015625 23.390625 \r\nQ 45.015625 31 40.078125 35.4375 \r\nQ 35.15625 39.890625 26.703125 39.890625 \r\nQ 22.75 39.890625 18.8125 39.015625 \r\nQ 14.890625 38.140625 10.796875 36.28125 \r\nz\r\n\" id=\"DejaVuSans-53\"/>\r\n       </defs>\r\n       <use xlink:href=\"#DejaVuSans-8722\"/>\r\n       <use x=\"83.789062\" xlink:href=\"#DejaVuSans-49\"/>\r\n       <use x=\"147.412109\" xlink:href=\"#DejaVuSans-53\"/>\r\n       <use x=\"211.035156\" xlink:href=\"#DejaVuSans-48\"/>\r\n      </g>\r\n     </g>\r\n    </g>\r\n    <g id=\"ytick_2\">\r\n     <g id=\"line2d_11\">\r\n      <g>\r\n       <use style=\"stroke:#000000;stroke-width:0.8;\" x=\"41.667188\" xlink:href=\"#mfa0e5213d5\" y=\"176.32\"/>\r\n      </g>\r\n     </g>\r\n     <g id=\"text_11\">\r\n      <!-- −100 -->\r\n      <g transform=\"translate(7.2 180.119219)scale(0.1 -0.1)\">\r\n       <use xlink:href=\"#DejaVuSans-8722\"/>\r\n       <use x=\"83.789062\" xlink:href=\"#DejaVuSans-49\"/>\r\n       <use x=\"147.412109\" xlink:href=\"#DejaVuSans-48\"/>\r\n       <use x=\"211.035156\" xlink:href=\"#DejaVuSans-48\"/>\r\n      </g>\r\n     </g>\r\n    </g>\r\n    <g id=\"ytick_3\">\r\n     <g id=\"line2d_12\">\r\n      <g>\r\n       <use style=\"stroke:#000000;stroke-width:0.8;\" x=\"41.667188\" xlink:href=\"#mfa0e5213d5\" y=\"146.12\"/>\r\n      </g>\r\n     </g>\r\n     <g id=\"text_12\">\r\n      <!-- −50 -->\r\n      <g transform=\"translate(13.5625 149.919219)scale(0.1 -0.1)\">\r\n       <use xlink:href=\"#DejaVuSans-8722\"/>\r\n       <use x=\"83.789062\" xlink:href=\"#DejaVuSans-53\"/>\r\n       <use x=\"147.412109\" xlink:href=\"#DejaVuSans-48\"/>\r\n      </g>\r\n     </g>\r\n    </g>\r\n    <g id=\"ytick_4\">\r\n     <g id=\"line2d_13\">\r\n      <g>\r\n       <use style=\"stroke:#000000;stroke-width:0.8;\" x=\"41.667188\" xlink:href=\"#mfa0e5213d5\" y=\"115.92\"/>\r\n      </g>\r\n     </g>\r\n     <g id=\"text_13\">\r\n      <!-- 0 -->\r\n      <g transform=\"translate(28.304688 119.719219)scale(0.1 -0.1)\">\r\n       <use xlink:href=\"#DejaVuSans-48\"/>\r\n      </g>\r\n     </g>\r\n    </g>\r\n    <g id=\"ytick_5\">\r\n     <g id=\"line2d_14\">\r\n      <g>\r\n       <use style=\"stroke:#000000;stroke-width:0.8;\" x=\"41.667188\" xlink:href=\"#mfa0e5213d5\" y=\"85.72\"/>\r\n      </g>\r\n     </g>\r\n     <g id=\"text_14\">\r\n      <!-- 50 -->\r\n      <g transform=\"translate(21.942188 89.519219)scale(0.1 -0.1)\">\r\n       <use xlink:href=\"#DejaVuSans-53\"/>\r\n       <use x=\"63.623047\" xlink:href=\"#DejaVuSans-48\"/>\r\n      </g>\r\n     </g>\r\n    </g>\r\n    <g id=\"ytick_6\">\r\n     <g id=\"line2d_15\">\r\n      <g>\r\n       <use style=\"stroke:#000000;stroke-width:0.8;\" x=\"41.667188\" xlink:href=\"#mfa0e5213d5\" y=\"55.52\"/>\r\n      </g>\r\n     </g>\r\n     <g id=\"text_15\">\r\n      <!-- 100 -->\r\n      <g transform=\"translate(15.579688 59.319219)scale(0.1 -0.1)\">\r\n       <use xlink:href=\"#DejaVuSans-49\"/>\r\n       <use x=\"63.623047\" xlink:href=\"#DejaVuSans-48\"/>\r\n       <use x=\"127.246094\" xlink:href=\"#DejaVuSans-48\"/>\r\n      </g>\r\n     </g>\r\n    </g>\r\n    <g id=\"ytick_7\">\r\n     <g id=\"line2d_16\">\r\n      <g>\r\n       <use style=\"stroke:#000000;stroke-width:0.8;\" x=\"41.667188\" xlink:href=\"#mfa0e5213d5\" y=\"25.32\"/>\r\n      </g>\r\n     </g>\r\n     <g id=\"text_16\">\r\n      <!-- 150 -->\r\n      <g transform=\"translate(15.579688 29.119219)scale(0.1 -0.1)\">\r\n       <use xlink:href=\"#DejaVuSans-49\"/>\r\n       <use x=\"63.623047\" xlink:href=\"#DejaVuSans-53\"/>\r\n       <use x=\"127.246094\" xlink:href=\"#DejaVuSans-48\"/>\r\n      </g>\r\n     </g>\r\n    </g>\r\n   </g>\r\n   <g id=\"patch_3\">\r\n    <path d=\"M 41.667188 224.64 \r\nL 41.667188 7.2 \r\n\" style=\"fill:none;stroke:#000000;stroke-linecap:square;stroke-linejoin:miter;stroke-width:0.8;\"/>\r\n   </g>\r\n   <g id=\"patch_4\">\r\n    <path d=\"M 376.467188 224.64 \r\nL 376.467188 7.2 \r\n\" style=\"fill:none;stroke:#000000;stroke-linecap:square;stroke-linejoin:miter;stroke-width:0.8;\"/>\r\n   </g>\r\n   <g id=\"patch_5\">\r\n    <path d=\"M 41.667188 224.64 \r\nL 376.467188 224.64 \r\n\" style=\"fill:none;stroke:#000000;stroke-linecap:square;stroke-linejoin:miter;stroke-width:0.8;\"/>\r\n   </g>\r\n   <g id=\"patch_6\">\r\n    <path d=\"M 41.667188 7.2 \r\nL 376.467188 7.2 \r\n\" style=\"fill:none;stroke:#000000;stroke-linecap:square;stroke-linejoin:miter;stroke-width:0.8;\"/>\r\n   </g>\r\n  </g>\r\n </g>\r\n <defs>\r\n  <clipPath id=\"pe25c3dfe9d\">\r\n   <rect height=\"217.44\" width=\"334.8\" x=\"41.667188\" y=\"7.2\"/>\r\n  </clipPath>\r\n </defs>\r\n</svg>\r\n",
      "image/png": "[encoded data removed]"
     },
     "metadata": {
      "needs_background": "light"
     }
    }
   ],
   "source": [
    "x = weather_data['Longitude (E+/W-)']\n",
    "y = weather_data['Latitude (N+/S-)']\n",
    "plt.scatter(y, x)\n",
    "plt.xlim(-90, 90)\n",
    "plt.ylim(-180, 180)\n",
    "plt.show"
   ]
  },
  {
   "cell_type": "code",
   "execution_count": null,
   "metadata": {},
   "outputs": [],
   "source": []
  }
 ]
}