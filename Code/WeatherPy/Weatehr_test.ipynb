{
 "metadata": {
  "language_info": {
   "codemirror_mode": {
    "name": "ipython",
    "version": 3
   },
   "file_extension": ".py",
   "mimetype": "text/x-python",
   "name": "python",
   "nbconvert_exporter": "python",
   "pygments_lexer": "ipython3",
   "version": "3.8.5-final"
  },
  "orig_nbformat": 2,
  "kernelspec": {
   "name": "Python 3.8.5 32-bit ('PythonData': conda)",
   "display_name": "Python 3.8.5 32-bit ('PythonData': conda)",
   "metadata": {
    "interpreter": {
     "hash": "8a311df698f06a2cef55d0510db956ee9a65d564cad357cc4e621b7df85da77c"
    }
   }
  }
 },
 "nbformat": 4,
 "nbformat_minor": 2,
 "cells": [
  {
   "cell_type": "code",
   "execution_count": 1,
   "metadata": {},
   "outputs": [],
   "source": [
    "import requests\n",
    "import json\n",
    "from citipy import citipy\n",
    "import random\n",
    "import pandas as pd \n",
    "import matplotlib as plt\n",
    "from api_keys import weather_api_key"
   ]
  },
  {
   "cell_type": "code",
   "execution_count": 2,
   "metadata": {},
   "outputs": [],
   "source": [
    "url = \"http://api.openweathermap.org/data/2.5/weather?\""
   ]
  },
  {
   "cell_type": "code",
   "execution_count": 16,
   "metadata": {},
   "outputs": [],
   "source": [
    "#List Generation\n",
    "cities = []\n",
    "state_list = []\n",
    "lat_list = []\n",
    "lon_list = []\n",
    "temp_list = []\n",
    "humid_list = []\n",
    "cloud_list = []\n",
    "wind_list = []"
   ]
  },
  {
   "cell_type": "code",
   "execution_count": 17,
   "metadata": {},
   "outputs": [],
   "source": [
    "data_dict = {\n",
    "    \"City\": cities,\n",
    "    \"Country Code\": state_list,\n",
    "    \"Latitude\": lat_list,\n",
    "    \"Longitude\": lon_list,\n",
    "    \"Temperature (F)\": temp_list,\n",
    "    \"Humidity (%)\": humid_list,\n",
    "    \"Cloudiness (%)\": cloud_list,\n",
    "    \"Wind Speed (mph)\": wind_list\n",
    "}"
   ]
  },
  {
   "cell_type": "code",
   "execution_count": 21,
   "metadata": {},
   "outputs": [],
   "source": [
    "def getcities():\n",
    "    while len(cities) < 10:\n",
    "        restart=True\n",
    "        while restart:\n",
    "            restart=False\n",
    "            lat = random.uniform(-90, 90)\n",
    "            lon = random.uniform(-180, 180)\n",
    "            cityget = citipy.nearest_city(lat, lon)\n",
    "            city = str(cityget.city_name)\n",
    "            state = str(cityget.country_code)\n",
    "            if city in cities:\n",
    "                restart=True\n",
    "            else:\n",
    "                cities.append(city)\n",
    "                state_list.append(state)\n",
    "                city_length = len(cities)\n",
    "                print(f\"Processing weather data for {city}, {state} | City number {city_length}\")"
   ]
  },
  {
   "cell_type": "code",
   "execution_count": 22,
   "metadata": {},
   "outputs": [],
   "source": [
    "def getweather():\n",
    "    for city in cities:\n",
    "        ### PULL DATA FROM API HERE\n",
    "        call_url = url + \"q=\" + city + \"&units=imperial&appid=\" + \"68970bdad69e00449a9f178cc072f6f2\"\n",
    "        city_data = requests.get(call_url).json()\n",
    "        lat_list.append(city_data['coord']['lat'])\n",
    "        lon_list.append(city_data['coord']['lon'])\n",
    "        temp_list.append(city_data['main']['temp'])\n",
    "        humid_list.append(city_data['main']['humidity'])\n",
    "        cloud_list.append(city_data['clouds']['all'])\n",
    "        wind_list.append(city_data['wind']['speed'])"
   ]
  },
  {
   "cell_type": "code",
   "execution_count": 44,
   "metadata": {},
   "outputs": [],
   "source": [
    "getcities()"
   ]
  },
  {
   "cell_type": "code",
   "execution_count": 45,
   "metadata": {},
   "outputs": [
    {
     "output_type": "error",
     "ename": "KeyError",
     "evalue": "'coord'",
     "traceback": [
      "\u001b[1;31m---------------------------------------------------------------------------\u001b[0m",
      "\u001b[1;31mKeyError\u001b[0m                                  Traceback (most recent call last)",
      "\u001b[1;32m<ipython-input-45-bb616c6db56d>\u001b[0m in \u001b[0;36m<module>\u001b[1;34m\u001b[0m\n\u001b[1;32m----> 1\u001b[1;33m \u001b[0mgetweather\u001b[0m\u001b[1;33m(\u001b[0m\u001b[1;33m)\u001b[0m\u001b[1;33m\u001b[0m\u001b[1;33m\u001b[0m\u001b[0m\n\u001b[0m",
      "\u001b[1;32m<ipython-input-22-89185daee101>\u001b[0m in \u001b[0;36mgetweather\u001b[1;34m()\u001b[0m\n\u001b[0;32m      4\u001b[0m         \u001b[0mcall_url\u001b[0m \u001b[1;33m=\u001b[0m \u001b[0murl\u001b[0m \u001b[1;33m+\u001b[0m \u001b[1;34m\"q=\"\u001b[0m \u001b[1;33m+\u001b[0m \u001b[0mcity\u001b[0m \u001b[1;33m+\u001b[0m \u001b[1;34m\"&units=imperial&appid=\"\u001b[0m \u001b[1;33m+\u001b[0m \u001b[1;34m\"68970bdad69e00449a9f178cc072f6f2\"\u001b[0m\u001b[1;33m\u001b[0m\u001b[1;33m\u001b[0m\u001b[0m\n\u001b[0;32m      5\u001b[0m         \u001b[0mcity_data\u001b[0m \u001b[1;33m=\u001b[0m \u001b[0mrequests\u001b[0m\u001b[1;33m.\u001b[0m\u001b[0mget\u001b[0m\u001b[1;33m(\u001b[0m\u001b[0mcall_url\u001b[0m\u001b[1;33m)\u001b[0m\u001b[1;33m.\u001b[0m\u001b[0mjson\u001b[0m\u001b[1;33m(\u001b[0m\u001b[1;33m)\u001b[0m\u001b[1;33m\u001b[0m\u001b[1;33m\u001b[0m\u001b[0m\n\u001b[1;32m----> 6\u001b[1;33m         \u001b[0mlat_list\u001b[0m\u001b[1;33m.\u001b[0m\u001b[0mappend\u001b[0m\u001b[1;33m(\u001b[0m\u001b[0mcity_data\u001b[0m\u001b[1;33m[\u001b[0m\u001b[1;34m'coord'\u001b[0m\u001b[1;33m]\u001b[0m\u001b[1;33m[\u001b[0m\u001b[1;34m'lat'\u001b[0m\u001b[1;33m]\u001b[0m\u001b[1;33m)\u001b[0m\u001b[1;33m\u001b[0m\u001b[1;33m\u001b[0m\u001b[0m\n\u001b[0m\u001b[0;32m      7\u001b[0m         \u001b[0mlon_list\u001b[0m\u001b[1;33m.\u001b[0m\u001b[0mappend\u001b[0m\u001b[1;33m(\u001b[0m\u001b[0mcity_data\u001b[0m\u001b[1;33m[\u001b[0m\u001b[1;34m'coord'\u001b[0m\u001b[1;33m]\u001b[0m\u001b[1;33m[\u001b[0m\u001b[1;34m'lon'\u001b[0m\u001b[1;33m]\u001b[0m\u001b[1;33m)\u001b[0m\u001b[1;33m\u001b[0m\u001b[1;33m\u001b[0m\u001b[0m\n\u001b[0;32m      8\u001b[0m         \u001b[0mtemp_list\u001b[0m\u001b[1;33m.\u001b[0m\u001b[0mappend\u001b[0m\u001b[1;33m(\u001b[0m\u001b[0mcity_data\u001b[0m\u001b[1;33m[\u001b[0m\u001b[1;34m'main'\u001b[0m\u001b[1;33m]\u001b[0m\u001b[1;33m[\u001b[0m\u001b[1;34m'temp'\u001b[0m\u001b[1;33m]\u001b[0m\u001b[1;33m)\u001b[0m\u001b[1;33m\u001b[0m\u001b[1;33m\u001b[0m\u001b[0m\n",
      "\u001b[1;31mKeyError\u001b[0m: 'coord'"
     ]
    }
   ],
   "source": [
    "getweather()"
   ]
  },
  {
   "cell_type": "code",
   "execution_count": 36,
   "metadata": {},
   "outputs": [
    {
     "output_type": "stream",
     "name": "stdout",
     "text": [
      "['albany', 'rikitea', 'tiksi', 'port alfred', 'boyolangu', 'anar darreh', 'mahebourg', 'hovd', 'pontes e lacerda', 'beyneu']\n[42.6, -23.12, 71.69, -33.59, -8.12, 42.6, -23.12, 71.69, -33.59, -8.12, 42.6, -23.12, 71.69, -33.59, -8.12, 42.6, -23.12, 71.69, -33.59, -8.12, 42.6, -23.12, 71.69, -33.59, -8.12]\n[-73.97, -134.97, 128.87, 26.89, 111.89, -73.97, -134.97, 128.87, 26.89, 111.89, -73.97, -134.97, 128.87, 26.89, 111.89, -73.97, -134.97, 128.87, 26.89, 111.89, -73.97, -134.97, 128.87, 26.89, 111.89]\n"
     ]
    }
   ],
   "source": [
    "print(cities)\n",
    "print(lat_list)\n",
    "print(lon_list)"
   ]
  },
  {
   "cell_type": "code",
   "execution_count": 37,
   "metadata": {},
   "outputs": [
    {
     "output_type": "error",
     "ename": "ValueError",
     "evalue": "arrays must all be same length",
     "traceback": [
      "\u001b[1;31m---------------------------------------------------------------------------\u001b[0m",
      "\u001b[1;31mValueError\u001b[0m                                Traceback (most recent call last)",
      "\u001b[1;32m<ipython-input-37-e63752ffd995>\u001b[0m in \u001b[0;36m<module>\u001b[1;34m\u001b[0m\n\u001b[1;32m----> 1\u001b[1;33m \u001b[0mweather_data\u001b[0m \u001b[1;33m=\u001b[0m \u001b[0mpd\u001b[0m\u001b[1;33m.\u001b[0m\u001b[0mDataFrame\u001b[0m\u001b[1;33m(\u001b[0m\u001b[0mdata_dict\u001b[0m\u001b[1;33m)\u001b[0m\u001b[1;33m\u001b[0m\u001b[1;33m\u001b[0m\u001b[0m\n\u001b[0m",
      "\u001b[1;32m~\\anaconda3\\envs\\PythonData\\lib\\site-packages\\pandas\\core\\frame.py\u001b[0m in \u001b[0;36m__init__\u001b[1;34m(self, data, index, columns, dtype, copy)\u001b[0m\n\u001b[0;32m    466\u001b[0m \u001b[1;33m\u001b[0m\u001b[0m\n\u001b[0;32m    467\u001b[0m         \u001b[1;32melif\u001b[0m \u001b[0misinstance\u001b[0m\u001b[1;33m(\u001b[0m\u001b[0mdata\u001b[0m\u001b[1;33m,\u001b[0m \u001b[0mdict\u001b[0m\u001b[1;33m)\u001b[0m\u001b[1;33m:\u001b[0m\u001b[1;33m\u001b[0m\u001b[1;33m\u001b[0m\u001b[0m\n\u001b[1;32m--> 468\u001b[1;33m             \u001b[0mmgr\u001b[0m \u001b[1;33m=\u001b[0m \u001b[0minit_dict\u001b[0m\u001b[1;33m(\u001b[0m\u001b[0mdata\u001b[0m\u001b[1;33m,\u001b[0m \u001b[0mindex\u001b[0m\u001b[1;33m,\u001b[0m \u001b[0mcolumns\u001b[0m\u001b[1;33m,\u001b[0m \u001b[0mdtype\u001b[0m\u001b[1;33m=\u001b[0m\u001b[0mdtype\u001b[0m\u001b[1;33m)\u001b[0m\u001b[1;33m\u001b[0m\u001b[1;33m\u001b[0m\u001b[0m\n\u001b[0m\u001b[0;32m    469\u001b[0m         \u001b[1;32melif\u001b[0m \u001b[0misinstance\u001b[0m\u001b[1;33m(\u001b[0m\u001b[0mdata\u001b[0m\u001b[1;33m,\u001b[0m \u001b[0mma\u001b[0m\u001b[1;33m.\u001b[0m\u001b[0mMaskedArray\u001b[0m\u001b[1;33m)\u001b[0m\u001b[1;33m:\u001b[0m\u001b[1;33m\u001b[0m\u001b[1;33m\u001b[0m\u001b[0m\n\u001b[0;32m    470\u001b[0m             \u001b[1;32mimport\u001b[0m \u001b[0mnumpy\u001b[0m\u001b[1;33m.\u001b[0m\u001b[0mma\u001b[0m\u001b[1;33m.\u001b[0m\u001b[0mmrecords\u001b[0m \u001b[1;32mas\u001b[0m \u001b[0mmrecords\u001b[0m\u001b[1;33m\u001b[0m\u001b[1;33m\u001b[0m\u001b[0m\n",
      "\u001b[1;32m~\\anaconda3\\envs\\PythonData\\lib\\site-packages\\pandas\\core\\internals\\construction.py\u001b[0m in \u001b[0;36minit_dict\u001b[1;34m(data, index, columns, dtype)\u001b[0m\n\u001b[0;32m    281\u001b[0m             \u001b[0marr\u001b[0m \u001b[1;32mif\u001b[0m \u001b[1;32mnot\u001b[0m \u001b[0mis_datetime64tz_dtype\u001b[0m\u001b[1;33m(\u001b[0m\u001b[0marr\u001b[0m\u001b[1;33m)\u001b[0m \u001b[1;32melse\u001b[0m \u001b[0marr\u001b[0m\u001b[1;33m.\u001b[0m\u001b[0mcopy\u001b[0m\u001b[1;33m(\u001b[0m\u001b[1;33m)\u001b[0m \u001b[1;32mfor\u001b[0m \u001b[0marr\u001b[0m \u001b[1;32min\u001b[0m \u001b[0marrays\u001b[0m\u001b[1;33m\u001b[0m\u001b[1;33m\u001b[0m\u001b[0m\n\u001b[0;32m    282\u001b[0m         ]\n\u001b[1;32m--> 283\u001b[1;33m     \u001b[1;32mreturn\u001b[0m \u001b[0marrays_to_mgr\u001b[0m\u001b[1;33m(\u001b[0m\u001b[0marrays\u001b[0m\u001b[1;33m,\u001b[0m \u001b[0mdata_names\u001b[0m\u001b[1;33m,\u001b[0m \u001b[0mindex\u001b[0m\u001b[1;33m,\u001b[0m \u001b[0mcolumns\u001b[0m\u001b[1;33m,\u001b[0m \u001b[0mdtype\u001b[0m\u001b[1;33m=\u001b[0m\u001b[0mdtype\u001b[0m\u001b[1;33m)\u001b[0m\u001b[1;33m\u001b[0m\u001b[1;33m\u001b[0m\u001b[0m\n\u001b[0m\u001b[0;32m    284\u001b[0m \u001b[1;33m\u001b[0m\u001b[0m\n\u001b[0;32m    285\u001b[0m \u001b[1;33m\u001b[0m\u001b[0m\n",
      "\u001b[1;32m~\\anaconda3\\envs\\PythonData\\lib\\site-packages\\pandas\\core\\internals\\construction.py\u001b[0m in \u001b[0;36marrays_to_mgr\u001b[1;34m(arrays, arr_names, index, columns, dtype, verify_integrity)\u001b[0m\n\u001b[0;32m     76\u001b[0m         \u001b[1;31m# figure out the index, if necessary\u001b[0m\u001b[1;33m\u001b[0m\u001b[1;33m\u001b[0m\u001b[1;33m\u001b[0m\u001b[0m\n\u001b[0;32m     77\u001b[0m         \u001b[1;32mif\u001b[0m \u001b[0mindex\u001b[0m \u001b[1;32mis\u001b[0m \u001b[1;32mNone\u001b[0m\u001b[1;33m:\u001b[0m\u001b[1;33m\u001b[0m\u001b[1;33m\u001b[0m\u001b[0m\n\u001b[1;32m---> 78\u001b[1;33m             \u001b[0mindex\u001b[0m \u001b[1;33m=\u001b[0m \u001b[0mextract_index\u001b[0m\u001b[1;33m(\u001b[0m\u001b[0marrays\u001b[0m\u001b[1;33m)\u001b[0m\u001b[1;33m\u001b[0m\u001b[1;33m\u001b[0m\u001b[0m\n\u001b[0m\u001b[0;32m     79\u001b[0m         \u001b[1;32melse\u001b[0m\u001b[1;33m:\u001b[0m\u001b[1;33m\u001b[0m\u001b[1;33m\u001b[0m\u001b[0m\n\u001b[0;32m     80\u001b[0m             \u001b[0mindex\u001b[0m \u001b[1;33m=\u001b[0m \u001b[0mensure_index\u001b[0m\u001b[1;33m(\u001b[0m\u001b[0mindex\u001b[0m\u001b[1;33m)\u001b[0m\u001b[1;33m\u001b[0m\u001b[1;33m\u001b[0m\u001b[0m\n",
      "\u001b[1;32m~\\anaconda3\\envs\\PythonData\\lib\\site-packages\\pandas\\core\\internals\\construction.py\u001b[0m in \u001b[0;36mextract_index\u001b[1;34m(data)\u001b[0m\n\u001b[0;32m    395\u001b[0m             \u001b[0mlengths\u001b[0m \u001b[1;33m=\u001b[0m \u001b[0mlist\u001b[0m\u001b[1;33m(\u001b[0m\u001b[0mset\u001b[0m\u001b[1;33m(\u001b[0m\u001b[0mraw_lengths\u001b[0m\u001b[1;33m)\u001b[0m\u001b[1;33m)\u001b[0m\u001b[1;33m\u001b[0m\u001b[1;33m\u001b[0m\u001b[0m\n\u001b[0;32m    396\u001b[0m             \u001b[1;32mif\u001b[0m \u001b[0mlen\u001b[0m\u001b[1;33m(\u001b[0m\u001b[0mlengths\u001b[0m\u001b[1;33m)\u001b[0m \u001b[1;33m>\u001b[0m \u001b[1;36m1\u001b[0m\u001b[1;33m:\u001b[0m\u001b[1;33m\u001b[0m\u001b[1;33m\u001b[0m\u001b[0m\n\u001b[1;32m--> 397\u001b[1;33m                 \u001b[1;32mraise\u001b[0m \u001b[0mValueError\u001b[0m\u001b[1;33m(\u001b[0m\u001b[1;34m\"arrays must all be same length\"\u001b[0m\u001b[1;33m)\u001b[0m\u001b[1;33m\u001b[0m\u001b[1;33m\u001b[0m\u001b[0m\n\u001b[0m\u001b[0;32m    398\u001b[0m \u001b[1;33m\u001b[0m\u001b[0m\n\u001b[0;32m    399\u001b[0m             \u001b[1;32mif\u001b[0m \u001b[0mhave_dicts\u001b[0m\u001b[1;33m:\u001b[0m\u001b[1;33m\u001b[0m\u001b[1;33m\u001b[0m\u001b[0m\n",
      "\u001b[1;31mValueError\u001b[0m: arrays must all be same length"
     ]
    }
   ],
   "source": [
    "weather_data = pd.DataFrame(data_dict)"
   ]
  },
  {
   "cell_type": "code",
   "execution_count": 13,
   "metadata": {},
   "outputs": [
    {
     "output_type": "execute_result",
     "data": {
      "text/plain": [
       "            City  Latitude  Longitude  Temperature (F)  Humidity (%)  \\\n",
       "0  mount gambier    -37.83     140.77            46.40           100   \n",
       "1        qaanaaq     77.48     -69.36             8.01            75   \n",
       "2        ahipara    -35.17     173.17            66.25            76   \n",
       "3      mahebourg    -20.41      57.70            73.40            78   \n",
       "4        berwick     41.05     -76.23            54.75            71   \n",
       "5       dong hoi     17.48     106.60            79.00            85   \n",
       "6          bluff    -46.60     168.33            51.01            81   \n",
       "7    tuktoyaktuk     69.45    -133.04            21.20            92   \n",
       "8        ushuaia    -54.80     -68.30            44.60            75   \n",
       "9         avarua    -21.21    -159.78            75.20            78   \n",
       "\n",
       "   Cloudiness (%)  Wind Speed (mph)  \n",
       "0              90              4.70  \n",
       "1              14             11.25  \n",
       "2              88              4.68  \n",
       "3              75              6.93  \n",
       "4              99              1.99  \n",
       "5              98             20.74  \n",
       "6             100              5.99  \n",
       "7              75             24.16  \n",
       "8              75             28.86  \n",
       "9              48              8.05  "
      ],
      "text/html": "<div>\n<style scoped>\n    .dataframe tbody tr th:only-of-type {\n        vertical-align: middle;\n    }\n\n    .dataframe tbody tr th {\n        vertical-align: top;\n    }\n\n    .dataframe thead th {\n        text-align: right;\n    }\n</style>\n<table border=\"1\" class=\"dataframe\">\n  <thead>\n    <tr style=\"text-align: right;\">\n      <th></th>\n      <th>City</th>\n      <th>Latitude</th>\n      <th>Longitude</th>\n      <th>Temperature (F)</th>\n      <th>Humidity (%)</th>\n      <th>Cloudiness (%)</th>\n      <th>Wind Speed (mph)</th>\n    </tr>\n  </thead>\n  <tbody>\n    <tr>\n      <th>0</th>\n      <td>mount gambier</td>\n      <td>-37.83</td>\n      <td>140.77</td>\n      <td>46.40</td>\n      <td>100</td>\n      <td>90</td>\n      <td>4.70</td>\n    </tr>\n    <tr>\n      <th>1</th>\n      <td>qaanaaq</td>\n      <td>77.48</td>\n      <td>-69.36</td>\n      <td>8.01</td>\n      <td>75</td>\n      <td>14</td>\n      <td>11.25</td>\n    </tr>\n    <tr>\n      <th>2</th>\n      <td>ahipara</td>\n      <td>-35.17</td>\n      <td>173.17</td>\n      <td>66.25</td>\n      <td>76</td>\n      <td>88</td>\n      <td>4.68</td>\n    </tr>\n    <tr>\n      <th>3</th>\n      <td>mahebourg</td>\n      <td>-20.41</td>\n      <td>57.70</td>\n      <td>73.40</td>\n      <td>78</td>\n      <td>75</td>\n      <td>6.93</td>\n    </tr>\n    <tr>\n      <th>4</th>\n      <td>berwick</td>\n      <td>41.05</td>\n      <td>-76.23</td>\n      <td>54.75</td>\n      <td>71</td>\n      <td>99</td>\n      <td>1.99</td>\n    </tr>\n    <tr>\n      <th>5</th>\n      <td>dong hoi</td>\n      <td>17.48</td>\n      <td>106.60</td>\n      <td>79.00</td>\n      <td>85</td>\n      <td>98</td>\n      <td>20.74</td>\n    </tr>\n    <tr>\n      <th>6</th>\n      <td>bluff</td>\n      <td>-46.60</td>\n      <td>168.33</td>\n      <td>51.01</td>\n      <td>81</td>\n      <td>100</td>\n      <td>5.99</td>\n    </tr>\n    <tr>\n      <th>7</th>\n      <td>tuktoyaktuk</td>\n      <td>69.45</td>\n      <td>-133.04</td>\n      <td>21.20</td>\n      <td>92</td>\n      <td>75</td>\n      <td>24.16</td>\n    </tr>\n    <tr>\n      <th>8</th>\n      <td>ushuaia</td>\n      <td>-54.80</td>\n      <td>-68.30</td>\n      <td>44.60</td>\n      <td>75</td>\n      <td>75</td>\n      <td>28.86</td>\n    </tr>\n    <tr>\n      <th>9</th>\n      <td>avarua</td>\n      <td>-21.21</td>\n      <td>-159.78</td>\n      <td>75.20</td>\n      <td>78</td>\n      <td>48</td>\n      <td>8.05</td>\n    </tr>\n  </tbody>\n</table>\n</div>"
     },
     "metadata": {},
     "execution_count": 13
    }
   ],
   "source": [
    "weather_data"
   ]
  },
  {
   "cell_type": "code",
   "execution_count": null,
   "metadata": {},
   "outputs": [],
   "source": []
  }
 ]
}